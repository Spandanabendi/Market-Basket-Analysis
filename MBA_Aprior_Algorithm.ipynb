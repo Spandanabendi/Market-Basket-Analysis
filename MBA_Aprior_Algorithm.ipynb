{
  "nbformat": 4,
  "nbformat_minor": 0,
  "metadata": {
    "colab": {
      "name": "MBA-Aprior Algorithm.ipynb",
      "provenance": [],
      "collapsed_sections": []
    },
    "kernelspec": {
      "name": "python3",
      "display_name": "Python 3"
    },
    "language_info": {
      "name": "python"
    }
  },
  "cells": [
    {
      "cell_type": "markdown",
      "metadata": {
        "id": "OSSNLlbOL-gI"
      },
      "source": [
        "#### Loading dataset"
      ]
    },
    {
      "cell_type": "code",
      "metadata": {
        "id": "UOdCfXcS5l5M"
      },
      "source": [
        "#import required packages\n",
        "import pandas as pd\n",
        "import numpy as np"
      ],
      "execution_count": null,
      "outputs": []
    },
    {
      "cell_type": "code",
      "metadata": {
        "id": "0uone1uO6uXE"
      },
      "source": [
        "#load dataset\n",
        "Data=pd.read_csv(\"/content/Online Retail .csv\")"
      ],
      "execution_count": null,
      "outputs": []
    },
    {
      "cell_type": "code",
      "metadata": {
        "colab": {
          "base_uri": "https://localhost:8080/",
          "height": 204
        },
        "id": "4gpVhNBG61xT",
        "outputId": "6b425e8e-6b12-4f9c-cdc2-98b818332e69"
      },
      "source": [
        "Data.head()"
      ],
      "execution_count": null,
      "outputs": [
        {
          "output_type": "execute_result",
          "data": {
            "text/html": [
              "<div>\n",
              "<style scoped>\n",
              "    .dataframe tbody tr th:only-of-type {\n",
              "        vertical-align: middle;\n",
              "    }\n",
              "\n",
              "    .dataframe tbody tr th {\n",
              "        vertical-align: top;\n",
              "    }\n",
              "\n",
              "    .dataframe thead th {\n",
              "        text-align: right;\n",
              "    }\n",
              "</style>\n",
              "<table border=\"1\" class=\"dataframe\">\n",
              "  <thead>\n",
              "    <tr style=\"text-align: right;\">\n",
              "      <th></th>\n",
              "      <th>InvoiceNo</th>\n",
              "      <th>StockCode</th>\n",
              "      <th>Description</th>\n",
              "      <th>Quantity</th>\n",
              "      <th>InvoiceDate</th>\n",
              "      <th>UnitPrice</th>\n",
              "      <th>CustomerID</th>\n",
              "      <th>Country</th>\n",
              "    </tr>\n",
              "  </thead>\n",
              "  <tbody>\n",
              "    <tr>\n",
              "      <th>0</th>\n",
              "      <td>536365</td>\n",
              "      <td>85123A</td>\n",
              "      <td>WHITE HANGING HEART T-LIGHT HOLDER</td>\n",
              "      <td>6</td>\n",
              "      <td>12/1/2010 8:26</td>\n",
              "      <td>2.55</td>\n",
              "      <td>17850.0</td>\n",
              "      <td>United Kingdom</td>\n",
              "    </tr>\n",
              "    <tr>\n",
              "      <th>1</th>\n",
              "      <td>536365</td>\n",
              "      <td>71053</td>\n",
              "      <td>WHITE METAL LANTERN</td>\n",
              "      <td>6</td>\n",
              "      <td>12/1/2010 8:26</td>\n",
              "      <td>3.39</td>\n",
              "      <td>17850.0</td>\n",
              "      <td>United Kingdom</td>\n",
              "    </tr>\n",
              "    <tr>\n",
              "      <th>2</th>\n",
              "      <td>536365</td>\n",
              "      <td>84406B</td>\n",
              "      <td>CREAM CUPID HEARTS COAT HANGER</td>\n",
              "      <td>8</td>\n",
              "      <td>12/1/2010 8:26</td>\n",
              "      <td>2.75</td>\n",
              "      <td>17850.0</td>\n",
              "      <td>United Kingdom</td>\n",
              "    </tr>\n",
              "    <tr>\n",
              "      <th>3</th>\n",
              "      <td>536365</td>\n",
              "      <td>84029G</td>\n",
              "      <td>KNITTED UNION FLAG HOT WATER BOTTLE</td>\n",
              "      <td>6</td>\n",
              "      <td>12/1/2010 8:26</td>\n",
              "      <td>3.39</td>\n",
              "      <td>17850.0</td>\n",
              "      <td>United Kingdom</td>\n",
              "    </tr>\n",
              "    <tr>\n",
              "      <th>4</th>\n",
              "      <td>536365</td>\n",
              "      <td>84029E</td>\n",
              "      <td>RED WOOLLY HOTTIE WHITE HEART.</td>\n",
              "      <td>6</td>\n",
              "      <td>12/1/2010 8:26</td>\n",
              "      <td>3.39</td>\n",
              "      <td>17850.0</td>\n",
              "      <td>United Kingdom</td>\n",
              "    </tr>\n",
              "  </tbody>\n",
              "</table>\n",
              "</div>"
            ],
            "text/plain": [
              "  InvoiceNo StockCode  ... CustomerID         Country\n",
              "0    536365    85123A  ...    17850.0  United Kingdom\n",
              "1    536365     71053  ...    17850.0  United Kingdom\n",
              "2    536365    84406B  ...    17850.0  United Kingdom\n",
              "3    536365    84029G  ...    17850.0  United Kingdom\n",
              "4    536365    84029E  ...    17850.0  United Kingdom\n",
              "\n",
              "[5 rows x 8 columns]"
            ]
          },
          "metadata": {
            "tags": []
          },
          "execution_count": 3
        }
      ]
    },
    {
      "cell_type": "markdown",
      "metadata": {
        "id": "PVLh0_PeMSIb"
      },
      "source": [
        "#### Data preprocessing"
      ]
    },
    {
      "cell_type": "code",
      "metadata": {
        "colab": {
          "base_uri": "https://localhost:8080/",
          "height": 204
        },
        "id": "NJnlen4h8_6W",
        "outputId": "00b020e5-2fb1-48dd-d37b-e3ef1599f325"
      },
      "source": [
        "#filter data for France\n",
        "FranceData = Data[Data['Country']=='France']\n",
        "FranceData.reset_index(inplace = True, drop = True)\n",
        "FranceData.head()"
      ],
      "execution_count": null,
      "outputs": [
        {
          "output_type": "execute_result",
          "data": {
            "text/html": [
              "<div>\n",
              "<style scoped>\n",
              "    .dataframe tbody tr th:only-of-type {\n",
              "        vertical-align: middle;\n",
              "    }\n",
              "\n",
              "    .dataframe tbody tr th {\n",
              "        vertical-align: top;\n",
              "    }\n",
              "\n",
              "    .dataframe thead th {\n",
              "        text-align: right;\n",
              "    }\n",
              "</style>\n",
              "<table border=\"1\" class=\"dataframe\">\n",
              "  <thead>\n",
              "    <tr style=\"text-align: right;\">\n",
              "      <th></th>\n",
              "      <th>InvoiceNo</th>\n",
              "      <th>StockCode</th>\n",
              "      <th>Description</th>\n",
              "      <th>Quantity</th>\n",
              "      <th>InvoiceDate</th>\n",
              "      <th>UnitPrice</th>\n",
              "      <th>CustomerID</th>\n",
              "      <th>Country</th>\n",
              "    </tr>\n",
              "  </thead>\n",
              "  <tbody>\n",
              "    <tr>\n",
              "      <th>0</th>\n",
              "      <td>536370</td>\n",
              "      <td>22728</td>\n",
              "      <td>ALARM CLOCK BAKELIKE PINK</td>\n",
              "      <td>24</td>\n",
              "      <td>12/1/2010 8:45</td>\n",
              "      <td>3.75</td>\n",
              "      <td>12583.0</td>\n",
              "      <td>France</td>\n",
              "    </tr>\n",
              "    <tr>\n",
              "      <th>1</th>\n",
              "      <td>536370</td>\n",
              "      <td>22727</td>\n",
              "      <td>ALARM CLOCK BAKELIKE RED</td>\n",
              "      <td>24</td>\n",
              "      <td>12/1/2010 8:45</td>\n",
              "      <td>3.75</td>\n",
              "      <td>12583.0</td>\n",
              "      <td>France</td>\n",
              "    </tr>\n",
              "    <tr>\n",
              "      <th>2</th>\n",
              "      <td>536370</td>\n",
              "      <td>22726</td>\n",
              "      <td>ALARM CLOCK BAKELIKE GREEN</td>\n",
              "      <td>12</td>\n",
              "      <td>12/1/2010 8:45</td>\n",
              "      <td>3.75</td>\n",
              "      <td>12583.0</td>\n",
              "      <td>France</td>\n",
              "    </tr>\n",
              "    <tr>\n",
              "      <th>3</th>\n",
              "      <td>536370</td>\n",
              "      <td>21724</td>\n",
              "      <td>PANDA AND BUNNIES STICKER SHEET</td>\n",
              "      <td>12</td>\n",
              "      <td>12/1/2010 8:45</td>\n",
              "      <td>0.85</td>\n",
              "      <td>12583.0</td>\n",
              "      <td>France</td>\n",
              "    </tr>\n",
              "    <tr>\n",
              "      <th>4</th>\n",
              "      <td>536370</td>\n",
              "      <td>21883</td>\n",
              "      <td>STARS GIFT TAPE</td>\n",
              "      <td>24</td>\n",
              "      <td>12/1/2010 8:45</td>\n",
              "      <td>0.65</td>\n",
              "      <td>12583.0</td>\n",
              "      <td>France</td>\n",
              "    </tr>\n",
              "  </tbody>\n",
              "</table>\n",
              "</div>"
            ],
            "text/plain": [
              "  InvoiceNo StockCode  ... CustomerID  Country\n",
              "0    536370     22728  ...    12583.0   France\n",
              "1    536370     22727  ...    12583.0   France\n",
              "2    536370     22726  ...    12583.0   France\n",
              "3    536370     21724  ...    12583.0   France\n",
              "4    536370     21883  ...    12583.0   France\n",
              "\n",
              "[5 rows x 8 columns]"
            ]
          },
          "metadata": {
            "tags": []
          },
          "execution_count": 37
        }
      ]
    },
    {
      "cell_type": "code",
      "metadata": {
        "colab": {
          "base_uri": "https://localhost:8080/",
          "height": 204
        },
        "id": "RgMdp59C63uH",
        "outputId": "570b197d-05a8-43c5-b9eb-d8d72d245105"
      },
      "source": [
        "#save required columns into new dataframe and also drop records InvoiceNo starts with 'C'\n",
        "I_Data = FranceData[['InvoiceNo','Description']]\n",
        "I_Data = I_Data[~I_Data['InvoiceNo'].str.startswith('C')]\n",
        "I_Data.head()"
      ],
      "execution_count": null,
      "outputs": [
        {
          "output_type": "execute_result",
          "data": {
            "text/html": [
              "<div>\n",
              "<style scoped>\n",
              "    .dataframe tbody tr th:only-of-type {\n",
              "        vertical-align: middle;\n",
              "    }\n",
              "\n",
              "    .dataframe tbody tr th {\n",
              "        vertical-align: top;\n",
              "    }\n",
              "\n",
              "    .dataframe thead th {\n",
              "        text-align: right;\n",
              "    }\n",
              "</style>\n",
              "<table border=\"1\" class=\"dataframe\">\n",
              "  <thead>\n",
              "    <tr style=\"text-align: right;\">\n",
              "      <th></th>\n",
              "      <th>InvoiceNo</th>\n",
              "      <th>Description</th>\n",
              "    </tr>\n",
              "  </thead>\n",
              "  <tbody>\n",
              "    <tr>\n",
              "      <th>0</th>\n",
              "      <td>536370</td>\n",
              "      <td>ALARM CLOCK BAKELIKE PINK</td>\n",
              "    </tr>\n",
              "    <tr>\n",
              "      <th>1</th>\n",
              "      <td>536370</td>\n",
              "      <td>ALARM CLOCK BAKELIKE RED</td>\n",
              "    </tr>\n",
              "    <tr>\n",
              "      <th>2</th>\n",
              "      <td>536370</td>\n",
              "      <td>ALARM CLOCK BAKELIKE GREEN</td>\n",
              "    </tr>\n",
              "    <tr>\n",
              "      <th>3</th>\n",
              "      <td>536370</td>\n",
              "      <td>PANDA AND BUNNIES STICKER SHEET</td>\n",
              "    </tr>\n",
              "    <tr>\n",
              "      <th>4</th>\n",
              "      <td>536370</td>\n",
              "      <td>STARS GIFT TAPE</td>\n",
              "    </tr>\n",
              "  </tbody>\n",
              "</table>\n",
              "</div>"
            ],
            "text/plain": [
              "  InvoiceNo                      Description\n",
              "0    536370        ALARM CLOCK BAKELIKE PINK\n",
              "1    536370        ALARM CLOCK BAKELIKE RED \n",
              "2    536370       ALARM CLOCK BAKELIKE GREEN\n",
              "3    536370  PANDA AND BUNNIES STICKER SHEET\n",
              "4    536370                 STARS GIFT TAPE "
            ]
          },
          "metadata": {
            "tags": []
          },
          "execution_count": 46
        }
      ]
    },
    {
      "cell_type": "code",
      "metadata": {
        "colab": {
          "base_uri": "https://localhost:8080/",
          "height": 204
        },
        "id": "vdFz5oZY7M80",
        "outputId": "5ca91768-1b84-481d-e75f-10bf833fc388"
      },
      "source": [
        "#Replace spaces in item name with '-'\n",
        "I_Data=I_Data.replace(' ', '_', regex=True)\n",
        "I_Data.head()"
      ],
      "execution_count": null,
      "outputs": [
        {
          "output_type": "execute_result",
          "data": {
            "text/html": [
              "<div>\n",
              "<style scoped>\n",
              "    .dataframe tbody tr th:only-of-type {\n",
              "        vertical-align: middle;\n",
              "    }\n",
              "\n",
              "    .dataframe tbody tr th {\n",
              "        vertical-align: top;\n",
              "    }\n",
              "\n",
              "    .dataframe thead th {\n",
              "        text-align: right;\n",
              "    }\n",
              "</style>\n",
              "<table border=\"1\" class=\"dataframe\">\n",
              "  <thead>\n",
              "    <tr style=\"text-align: right;\">\n",
              "      <th></th>\n",
              "      <th>InvoiceNo</th>\n",
              "      <th>Description</th>\n",
              "    </tr>\n",
              "  </thead>\n",
              "  <tbody>\n",
              "    <tr>\n",
              "      <th>0</th>\n",
              "      <td>536370</td>\n",
              "      <td>ALARM_CLOCK_BAKELIKE_PINK</td>\n",
              "    </tr>\n",
              "    <tr>\n",
              "      <th>1</th>\n",
              "      <td>536370</td>\n",
              "      <td>ALARM_CLOCK_BAKELIKE_RED_</td>\n",
              "    </tr>\n",
              "    <tr>\n",
              "      <th>2</th>\n",
              "      <td>536370</td>\n",
              "      <td>ALARM_CLOCK_BAKELIKE_GREEN</td>\n",
              "    </tr>\n",
              "    <tr>\n",
              "      <th>3</th>\n",
              "      <td>536370</td>\n",
              "      <td>PANDA_AND_BUNNIES_STICKER_SHEET</td>\n",
              "    </tr>\n",
              "    <tr>\n",
              "      <th>4</th>\n",
              "      <td>536370</td>\n",
              "      <td>STARS_GIFT_TAPE_</td>\n",
              "    </tr>\n",
              "  </tbody>\n",
              "</table>\n",
              "</div>"
            ],
            "text/plain": [
              "  InvoiceNo                      Description\n",
              "0    536370        ALARM_CLOCK_BAKELIKE_PINK\n",
              "1    536370        ALARM_CLOCK_BAKELIKE_RED_\n",
              "2    536370       ALARM_CLOCK_BAKELIKE_GREEN\n",
              "3    536370  PANDA_AND_BUNNIES_STICKER_SHEET\n",
              "4    536370                 STARS_GIFT_TAPE_"
            ]
          },
          "metadata": {
            "tags": []
          },
          "execution_count": 103
        }
      ]
    },
    {
      "cell_type": "code",
      "metadata": {
        "colab": {
          "base_uri": "https://localhost:8080/"
        },
        "id": "yL8fesGO8rfr",
        "outputId": "c365a7c9-4f7a-446d-f7c2-3c6c042861fb"
      },
      "source": [
        "#verify for any null values in dataframe\n",
        "I_Data.isna().sum()"
      ],
      "execution_count": null,
      "outputs": [
        {
          "output_type": "execute_result",
          "data": {
            "text/plain": [
              "InvoiceNo      0\n",
              "Description    0\n",
              "dtype: int64"
            ]
          },
          "metadata": {
            "tags": []
          },
          "execution_count": 107
        }
      ]
    },
    {
      "cell_type": "code",
      "metadata": {
        "id": "9H1XsWKfMtaO"
      },
      "source": [
        "pd.set_option('display.max_colwidth', None)"
      ],
      "execution_count": 248,
      "outputs": []
    },
    {
      "cell_type": "code",
      "metadata": {
        "colab": {
          "base_uri": "https://localhost:8080/",
          "height": 731
        },
        "id": "FXTksyjj-htC",
        "outputId": "ea83ff1b-8196-4b19-8612-d12ffcd7755f"
      },
      "source": [
        "#Group records based on 'InvoiceNo', this is to have all items(Descriptions) of same InvoiceNo together\n",
        "G_Data=I_Data.groupby('InvoiceNo')['Description'].apply(' '.join).reset_index()\n",
        "G_Data.head()"
      ],
      "execution_count": 249,
      "outputs": [
        {
          "output_type": "execute_result",
          "data": {
            "text/html": [
              "<div>\n",
              "<style scoped>\n",
              "    .dataframe tbody tr th:only-of-type {\n",
              "        vertical-align: middle;\n",
              "    }\n",
              "\n",
              "    .dataframe tbody tr th {\n",
              "        vertical-align: top;\n",
              "    }\n",
              "\n",
              "    .dataframe thead th {\n",
              "        text-align: right;\n",
              "    }\n",
              "</style>\n",
              "<table border=\"1\" class=\"dataframe\">\n",
              "  <thead>\n",
              "    <tr style=\"text-align: right;\">\n",
              "      <th></th>\n",
              "      <th>InvoiceNo</th>\n",
              "      <th>Description</th>\n",
              "    </tr>\n",
              "  </thead>\n",
              "  <tbody>\n",
              "    <tr>\n",
              "      <th>0</th>\n",
              "      <td>536370</td>\n",
              "      <td>ALARM_CLOCK_BAKELIKE_PINK ALARM_CLOCK_BAKELIKE_RED_ ALARM_CLOCK_BAKELIKE_GREEN PANDA_AND_BUNNIES_STICKER_SHEET STARS_GIFT_TAPE_ INFLATABLE_POLITICAL_GLOBE_ VINTAGE_HEADS_AND_TAILS_CARD_GAME_ SET/2_RED_RETROSPOT_TEA_TOWELS_ ROUND_SNACK_BOXES_SET_OF4_WOODLAND_ SPACEBOY_LUNCH_BOX_ LUNCH_BOX_I_LOVE_LONDON CIRCUS_PARADE_LUNCH_BOX_ CHARLOTTE_BAG_DOLLY_GIRL_DESIGN RED_TOADSTOOL_LED_NIGHT_LIGHT _SET_2_TEA_TOWELS_I_LOVE_LONDON_ VINTAGE_SEASIDE_JIGSAW_PUZZLES MINI_JIGSAW_CIRCUS_PARADE_ MINI_JIGSAW_SPACEBOY MINI_PAINT_SET_VINTAGE_ POSTAGE</td>\n",
              "    </tr>\n",
              "    <tr>\n",
              "      <th>1</th>\n",
              "      <td>536852</td>\n",
              "      <td>PICTURE_DOMINOES MINI_JIGSAW_SPACEBOY MINI_JIGSAW_DOLLY_GIRL CHARLOTTE_BAG_DOLLY_GIRL_DESIGN VINTAGE_HEADS_AND_TAILS_CARD_GAME_ POLKADOT_RAIN_HAT_ POSTAGE</td>\n",
              "    </tr>\n",
              "    <tr>\n",
              "      <th>2</th>\n",
              "      <td>536974</td>\n",
              "      <td>EDWARDIAN_PARASOL_BLACK EDWARDIAN_PARASOL_PINK EDWARDIAN_PARASOL_RED RED__HARMONICA_IN_BOX_ LUNCH_BOX_I_LOVE_LONDON LUNCH_BOX_WITH_CUTLERY_RETROSPOT_ SET_OF_SALT_AND_PEPPER_TOADSTOOLS TEA_PARTY_BIRTHDAY_CARD ASSORTED_COLOUR_MINI_CASES RED_RETROSPOT_MINI_CASES BIG_DOUGHNUT_FRIDGE_MAGNETS POPPY'S_PLAYHOUSE_KITCHEN RIBBON_REEL_POLKADOTS_ LUNCH_BAG_RED_RETROSPOT LUNCH_BAG_WOODLAND POSTAGE</td>\n",
              "    </tr>\n",
              "    <tr>\n",
              "      <th>3</th>\n",
              "      <td>537065</td>\n",
              "      <td>HOT_WATER_BOTTLE_BABUSHKA_ BREAD_BIN_DINER_STYLE_RED_ SET_OF_SALT_AND_PEPPER_TOADSTOOLS ROSE_COTTAGE_KEEPSAKE_BOX_ CLASSICAL_ROSE_SMALL_VASE RED_RETROSPOT_PURSE_ POLKADOT_RAIN_HAT_ RAIN_PONCHO_RETROSPOT RED_RETROSPOT_MINI_CASES ASSORTED_COLOUR_MINI_CASES DECORATIVE_CATS_BATHROOM_BOTTLE SET/10_RED_POLKADOT_PARTY_CANDLES BASKET_OF_TOADSTOOLS PARTY_BUNTING ALARM_CLOCK_BAKELIKE_RED_ ALARM_CLOCK_BAKELIKE_GREEN ALARM_CLOCK_BAKELIKE_PINK ALARM_CLOCK_BAKELIKE_ORANGE 5_HOOK_HANGER_RED_MAGIC_TOADSTOOL GUMBALL_COAT_RACK FIVE_HEART_HANGING_DECORATION PINK__HONEYCOMB_PAPER_BALL_ LUNCH_BAG_RED_RETROSPOT LUNCH_BAG_WOODLAND LUNCH_BAG_CARS_BLUE STRAWBERRY_LUNCH_BOX_WITH_CUTLERY ROUND_SNACK_BOXES_SET_OF4_WOODLAND_ LUNCH_BOX_WITH_CUTLERY_RETROSPOT_ CERAMIC_STRAWBERRY_TRINKET_TRAY RETROSPOT_LARGE_MILK_JUG RED_RETROSPOT_BUTTER_DISH REGENCY_CAKESTAND_3_TIER GREEN_3_PIECE_POLKADOT_CUTLERY_SET RED_3_PIECE_RETROSPOT_CUTLERY_SET BLUE_3_PIECE_POLKADOT_CUTLERY_SET CHERRY_BLOSSOM__DECORATIVE_FLASK CHILDS_BREAKFAST_SET_SPACEBOY_ CHILDS_BREAKFAST_SET_DOLLY_GIRL_ CHILDS_BREAKFAST_SET_CIRCUS_PARADE RETROSPOT_LAMP PACK_OF_12_RED_RETROSPOT_TISSUES_ PACK_OF_12_WOODLAND_TISSUES_ PACK_OF_12_SUKI_TISSUES_ PACK_OF_12_SPACEBOY_TISSUES PACK_OF_12_CIRCUS_PARADE_TISSUES_ BLUE_GEISHA_GIRL_ GREEN_GEISHA_GIRL_ PLASTERS_IN_TIN_WOODLAND_ANIMALS PLASTERS_IN_TIN_SPACEBOY PARTY_TIME_PENCIL_ERASERS SET_OF_6_3D_KIT_CARDS_FOR_KIDS HAND_WARMER_RED_RETROSPOT DINOSAUR_KEYRINGS_ASSORTED CERAMIC_STRAWBERRY_MONEY_BOX CERAMIC_CHERRY_CAKE_MONEY_BANK PAPERWEIGHT_CHILDHOOD_MEMORIES RED_GINGHAM_TEDDY_BEAR_ NURSE'S_BAG_SOFT_TOY TOOL_BOX_SOFT_TOY_ TRADITIONAL_WOODEN_CATCH_CUP_GAME_ SET_OF_6_SOLDIER_SKITTLES PINK_PAINTED_KASHMIRI_CHAIR POSTAGE</td>\n",
              "    </tr>\n",
              "    <tr>\n",
              "      <th>4</th>\n",
              "      <td>537463</td>\n",
              "      <td>JAM_MAKING_SET_PRINTED SET/4_SKULL_BADGES ROUND_SNACK_BOXES_SET_OF4_WOODLAND_ SET/10_BLUE_POLKADOT_PARTY_CANDLES SET/10_RED_POLKADOT_PARTY_CANDLES BLACK_RECORD_COVER_FRAME RECORD_FRAME_7\"_SINGLE_SIZE_ ROBOT_BIRTHDAY_CARD TEA_PARTY_BIRTHDAY_CARD FANCY_FONT_BIRTHDAY_CARD,_ BOOM_BOX_SPEAKER_BOYS RED_RETROSPOT_CUP IVORY_DINER_WALL_CLOCK LUNCH_BOX_WITH_CUTLERY_RETROSPOT_ STRAWBERRY_LUNCH_BOX_WITH_CUTLERY SNOWSTORM_PHOTO_FRAME_FRIDGE_MAGNET BIG_DOUGHNUT_FRIDGE_MAGNETS WOODLAND_CHARLOTTE_BAG WOODLAND__STICKERS PLASTERS_IN_TIN_WOODLAND_ANIMALS PACK_OF_72_RETROSPOT_CAKE_CASES OFFICE_MUG_WARMER_POLKADOT OFFICE_MUG_WARMER_PINK COFFEE_MUG_CAT_+_BIRD_DESIGN COFFEE_MUG_DOG_+_BALL_DESIGN TABLECLOTH_RED_APPLES_DESIGN_ DOORMAT_RESPECTABLE_HOUSE RED_RETROSPOT_CHILDRENS_UMBRELLA PINK_POLKADOT_CHILDRENS_UMBRELLA BOX_OF_24_COCKTAIL_PARASOLS GUMBALL_COAT_RACK METAL_SIGN_TAKE_IT_OR_LEAVE_IT_ SET_OF_SALT_AND_PEPPER_TOADSTOOLS PACK_OF_20_NAPKINS_RED_APPLES TEA_BAG_PLATE_RED_RETROSPOT LOVELY_BONBON_STICKER_SHEET CANDY_SHOP__STICKER_SHEET SKULLS__WATER_TRANSFER_TATTOOS_ SET_OF_2_TEA_TOWELS_APPLE_AND_PEARS RED_TOADSTOOL_LED_NIGHT_LIGHT POSTAGE</td>\n",
              "    </tr>\n",
              "  </tbody>\n",
              "</table>\n",
              "</div>"
            ],
            "text/plain": [
              "  InvoiceNo                                                                                                                                                                                                                                                                                                                                                                                                                                                                                                                                                                                                                                                                                                                                                                                                                                                                                                                                                                                                                                                                                                                                                                                                                                                                                                                                                                                                                                                                                                                                                                                                                                                                                                                                                               Description\n",
              "0    536370                                                                                                                                                                                                                                                                                                                                                                                                                                                                                                                                                                                                                                                                                                                                                                                                                                                                                                                                                                                                                                                                                                                                                                                                                     ALARM_CLOCK_BAKELIKE_PINK ALARM_CLOCK_BAKELIKE_RED_ ALARM_CLOCK_BAKELIKE_GREEN PANDA_AND_BUNNIES_STICKER_SHEET STARS_GIFT_TAPE_ INFLATABLE_POLITICAL_GLOBE_ VINTAGE_HEADS_AND_TAILS_CARD_GAME_ SET/2_RED_RETROSPOT_TEA_TOWELS_ ROUND_SNACK_BOXES_SET_OF4_WOODLAND_ SPACEBOY_LUNCH_BOX_ LUNCH_BOX_I_LOVE_LONDON CIRCUS_PARADE_LUNCH_BOX_ CHARLOTTE_BAG_DOLLY_GIRL_DESIGN RED_TOADSTOOL_LED_NIGHT_LIGHT _SET_2_TEA_TOWELS_I_LOVE_LONDON_ VINTAGE_SEASIDE_JIGSAW_PUZZLES MINI_JIGSAW_CIRCUS_PARADE_ MINI_JIGSAW_SPACEBOY MINI_PAINT_SET_VINTAGE_ POSTAGE\n",
              "1    536852                                                                                                                                                                                                                                                                                                                                                                                                                                                                                                                                                                                                                                                                                                                                                                                                                                                                                                                                                                                                                                                                                                                                                                                                                                                                                                                                                                                                                                                                                                                                                                                                                PICTURE_DOMINOES MINI_JIGSAW_SPACEBOY MINI_JIGSAW_DOLLY_GIRL CHARLOTTE_BAG_DOLLY_GIRL_DESIGN VINTAGE_HEADS_AND_TAILS_CARD_GAME_ POLKADOT_RAIN_HAT_ POSTAGE\n",
              "2    536974                                                                                                                                                                                                                                                                                                                                                                                                                                                                                                                                                                                                                                                                                                                                                                                                                                                                                                                                                                                                                                                                                                                                                                                                                                                                                                                                                                       EDWARDIAN_PARASOL_BLACK EDWARDIAN_PARASOL_PINK EDWARDIAN_PARASOL_RED RED__HARMONICA_IN_BOX_ LUNCH_BOX_I_LOVE_LONDON LUNCH_BOX_WITH_CUTLERY_RETROSPOT_ SET_OF_SALT_AND_PEPPER_TOADSTOOLS TEA_PARTY_BIRTHDAY_CARD ASSORTED_COLOUR_MINI_CASES RED_RETROSPOT_MINI_CASES BIG_DOUGHNUT_FRIDGE_MAGNETS POPPY'S_PLAYHOUSE_KITCHEN RIBBON_REEL_POLKADOTS_ LUNCH_BAG_RED_RETROSPOT LUNCH_BAG_WOODLAND POSTAGE\n",
              "3    537065  HOT_WATER_BOTTLE_BABUSHKA_ BREAD_BIN_DINER_STYLE_RED_ SET_OF_SALT_AND_PEPPER_TOADSTOOLS ROSE_COTTAGE_KEEPSAKE_BOX_ CLASSICAL_ROSE_SMALL_VASE RED_RETROSPOT_PURSE_ POLKADOT_RAIN_HAT_ RAIN_PONCHO_RETROSPOT RED_RETROSPOT_MINI_CASES ASSORTED_COLOUR_MINI_CASES DECORATIVE_CATS_BATHROOM_BOTTLE SET/10_RED_POLKADOT_PARTY_CANDLES BASKET_OF_TOADSTOOLS PARTY_BUNTING ALARM_CLOCK_BAKELIKE_RED_ ALARM_CLOCK_BAKELIKE_GREEN ALARM_CLOCK_BAKELIKE_PINK ALARM_CLOCK_BAKELIKE_ORANGE 5_HOOK_HANGER_RED_MAGIC_TOADSTOOL GUMBALL_COAT_RACK FIVE_HEART_HANGING_DECORATION PINK__HONEYCOMB_PAPER_BALL_ LUNCH_BAG_RED_RETROSPOT LUNCH_BAG_WOODLAND LUNCH_BAG_CARS_BLUE STRAWBERRY_LUNCH_BOX_WITH_CUTLERY ROUND_SNACK_BOXES_SET_OF4_WOODLAND_ LUNCH_BOX_WITH_CUTLERY_RETROSPOT_ CERAMIC_STRAWBERRY_TRINKET_TRAY RETROSPOT_LARGE_MILK_JUG RED_RETROSPOT_BUTTER_DISH REGENCY_CAKESTAND_3_TIER GREEN_3_PIECE_POLKADOT_CUTLERY_SET RED_3_PIECE_RETROSPOT_CUTLERY_SET BLUE_3_PIECE_POLKADOT_CUTLERY_SET CHERRY_BLOSSOM__DECORATIVE_FLASK CHILDS_BREAKFAST_SET_SPACEBOY_ CHILDS_BREAKFAST_SET_DOLLY_GIRL_ CHILDS_BREAKFAST_SET_CIRCUS_PARADE RETROSPOT_LAMP PACK_OF_12_RED_RETROSPOT_TISSUES_ PACK_OF_12_WOODLAND_TISSUES_ PACK_OF_12_SUKI_TISSUES_ PACK_OF_12_SPACEBOY_TISSUES PACK_OF_12_CIRCUS_PARADE_TISSUES_ BLUE_GEISHA_GIRL_ GREEN_GEISHA_GIRL_ PLASTERS_IN_TIN_WOODLAND_ANIMALS PLASTERS_IN_TIN_SPACEBOY PARTY_TIME_PENCIL_ERASERS SET_OF_6_3D_KIT_CARDS_FOR_KIDS HAND_WARMER_RED_RETROSPOT DINOSAUR_KEYRINGS_ASSORTED CERAMIC_STRAWBERRY_MONEY_BOX CERAMIC_CHERRY_CAKE_MONEY_BANK PAPERWEIGHT_CHILDHOOD_MEMORIES RED_GINGHAM_TEDDY_BEAR_ NURSE'S_BAG_SOFT_TOY TOOL_BOX_SOFT_TOY_ TRADITIONAL_WOODEN_CATCH_CUP_GAME_ SET_OF_6_SOLDIER_SKITTLES PINK_PAINTED_KASHMIRI_CHAIR POSTAGE\n",
              "4    537463                                                                                                                                                                                                                                                                                                                                                                                                                                                                                                                                                                                             JAM_MAKING_SET_PRINTED SET/4_SKULL_BADGES ROUND_SNACK_BOXES_SET_OF4_WOODLAND_ SET/10_BLUE_POLKADOT_PARTY_CANDLES SET/10_RED_POLKADOT_PARTY_CANDLES BLACK_RECORD_COVER_FRAME RECORD_FRAME_7\"_SINGLE_SIZE_ ROBOT_BIRTHDAY_CARD TEA_PARTY_BIRTHDAY_CARD FANCY_FONT_BIRTHDAY_CARD,_ BOOM_BOX_SPEAKER_BOYS RED_RETROSPOT_CUP IVORY_DINER_WALL_CLOCK LUNCH_BOX_WITH_CUTLERY_RETROSPOT_ STRAWBERRY_LUNCH_BOX_WITH_CUTLERY SNOWSTORM_PHOTO_FRAME_FRIDGE_MAGNET BIG_DOUGHNUT_FRIDGE_MAGNETS WOODLAND_CHARLOTTE_BAG WOODLAND__STICKERS PLASTERS_IN_TIN_WOODLAND_ANIMALS PACK_OF_72_RETROSPOT_CAKE_CASES OFFICE_MUG_WARMER_POLKADOT OFFICE_MUG_WARMER_PINK COFFEE_MUG_CAT_+_BIRD_DESIGN COFFEE_MUG_DOG_+_BALL_DESIGN TABLECLOTH_RED_APPLES_DESIGN_ DOORMAT_RESPECTABLE_HOUSE RED_RETROSPOT_CHILDRENS_UMBRELLA PINK_POLKADOT_CHILDRENS_UMBRELLA BOX_OF_24_COCKTAIL_PARASOLS GUMBALL_COAT_RACK METAL_SIGN_TAKE_IT_OR_LEAVE_IT_ SET_OF_SALT_AND_PEPPER_TOADSTOOLS PACK_OF_20_NAPKINS_RED_APPLES TEA_BAG_PLATE_RED_RETROSPOT LOVELY_BONBON_STICKER_SHEET CANDY_SHOP__STICKER_SHEET SKULLS__WATER_TRANSFER_TATTOOS_ SET_OF_2_TEA_TOWELS_APPLE_AND_PEARS RED_TOADSTOOL_LED_NIGHT_LIGHT POSTAGE"
            ]
          },
          "metadata": {
            "tags": []
          },
          "execution_count": 249
        }
      ]
    },
    {
      "cell_type": "code",
      "metadata": {
        "colab": {
          "base_uri": "https://localhost:8080/",
          "height": 0
        },
        "id": "42fAjOOk7YZt",
        "outputId": "bcee4be2-ad6d-4372-efa5-2e10841c67d7"
      },
      "source": [
        "#Count the total number of transactions using InvoiceNo column.\n",
        "total_trans = G_Data['InvoiceNo'].nunique()\n",
        "total_trans"
      ],
      "execution_count": 213,
      "outputs": [
        {
          "output_type": "execute_result",
          "data": {
            "text/plain": [
              "298"
            ]
          },
          "metadata": {
            "tags": []
          },
          "execution_count": 213
        }
      ]
    },
    {
      "cell_type": "code",
      "metadata": {
        "colab": {
          "base_uri": "https://localhost:8080/",
          "height": 204
        },
        "id": "rna58-H8CVsc",
        "outputId": "4f256ce2-4b17-40c3-ca9b-9f68b3241373"
      },
      "source": [
        "#Save grouped items into a new dataframe for further processing\n",
        "df_item = G_Data[['Description']]\n",
        "df_item.head()"
      ],
      "execution_count": null,
      "outputs": [
        {
          "output_type": "execute_result",
          "data": {
            "text/html": [
              "<div>\n",
              "<style scoped>\n",
              "    .dataframe tbody tr th:only-of-type {\n",
              "        vertical-align: middle;\n",
              "    }\n",
              "\n",
              "    .dataframe tbody tr th {\n",
              "        vertical-align: top;\n",
              "    }\n",
              "\n",
              "    .dataframe thead th {\n",
              "        text-align: right;\n",
              "    }\n",
              "</style>\n",
              "<table border=\"1\" class=\"dataframe\">\n",
              "  <thead>\n",
              "    <tr style=\"text-align: right;\">\n",
              "      <th></th>\n",
              "      <th>Description</th>\n",
              "    </tr>\n",
              "  </thead>\n",
              "  <tbody>\n",
              "    <tr>\n",
              "      <th>0</th>\n",
              "      <td>ALARM_CLOCK_BAKELIKE_PINK ALARM_CLOCK_BAKELIKE...</td>\n",
              "    </tr>\n",
              "    <tr>\n",
              "      <th>1</th>\n",
              "      <td>PICTURE_DOMINOES MINI_JIGSAW_SPACEBOY MINI_JIG...</td>\n",
              "    </tr>\n",
              "    <tr>\n",
              "      <th>2</th>\n",
              "      <td>EDWARDIAN_PARASOL_BLACK EDWARDIAN_PARASOL_PINK...</td>\n",
              "    </tr>\n",
              "    <tr>\n",
              "      <th>3</th>\n",
              "      <td>HOT_WATER_BOTTLE_BABUSHKA_ BREAD_BIN_DINER_STY...</td>\n",
              "    </tr>\n",
              "    <tr>\n",
              "      <th>4</th>\n",
              "      <td>JAM_MAKING_SET_PRINTED SET/4_SKULL_BADGES ROUN...</td>\n",
              "    </tr>\n",
              "  </tbody>\n",
              "</table>\n",
              "</div>"
            ],
            "text/plain": [
              "                                         Description\n",
              "0  ALARM_CLOCK_BAKELIKE_PINK ALARM_CLOCK_BAKELIKE...\n",
              "1  PICTURE_DOMINOES MINI_JIGSAW_SPACEBOY MINI_JIG...\n",
              "2  EDWARDIAN_PARASOL_BLACK EDWARDIAN_PARASOL_PINK...\n",
              "3  HOT_WATER_BOTTLE_BABUSHKA_ BREAD_BIN_DINER_STY...\n",
              "4  JAM_MAKING_SET_PRINTED SET/4_SKULL_BADGES ROUN..."
            ]
          },
          "metadata": {
            "tags": []
          },
          "execution_count": 110
        }
      ]
    },
    {
      "cell_type": "code",
      "metadata": {
        "id": "d4Ff4srtLqnA"
      },
      "source": [
        "#save the processed data into textfile\n",
        "df_item.to_csv('item.txt', sep='\\t', header=None, index=False)"
      ],
      "execution_count": null,
      "outputs": []
    },
    {
      "cell_type": "markdown",
      "metadata": {
        "id": "C3er4D-eC0KM"
      },
      "source": [
        "#### Aprior algorithm"
      ]
    },
    {
      "cell_type": "code",
      "metadata": {
        "colab": {
          "base_uri": "https://localhost:8080/"
        },
        "id": "bwAQ09p9CzAS",
        "outputId": "722605e1-8b94-4811-ecfa-fe2080502478"
      },
      "source": [
        "#install required packages\n",
        "!pip install -q findspark\n",
        "!pip install pyspark"
      ],
      "execution_count": null,
      "outputs": [
        {
          "output_type": "stream",
          "text": [
            "Collecting pyspark\n",
            "\u001b[?25l  Downloading https://files.pythonhosted.org/packages/89/db/e18cfd78e408de957821ec5ca56de1250645b05f8523d169803d8df35a64/pyspark-3.1.2.tar.gz (212.4MB)\n",
            "\u001b[K     |████████████████████████████████| 212.4MB 69kB/s \n",
            "\u001b[?25hCollecting py4j==0.10.9\n",
            "\u001b[?25l  Downloading https://files.pythonhosted.org/packages/9e/b6/6a4fb90cd235dc8e265a6a2067f2a2c99f0d91787f06aca4bcf7c23f3f80/py4j-0.10.9-py2.py3-none-any.whl (198kB)\n",
            "\u001b[K     |████████████████████████████████| 204kB 19.2MB/s \n",
            "\u001b[?25hBuilding wheels for collected packages: pyspark\n",
            "  Building wheel for pyspark (setup.py) ... \u001b[?25l\u001b[?25hdone\n",
            "  Created wheel for pyspark: filename=pyspark-3.1.2-py2.py3-none-any.whl size=212880768 sha256=7a8a29c252391b3d9b07f628f4a8dd465a744594e2482fc43238e3a46fca9661\n",
            "  Stored in directory: /root/.cache/pip/wheels/40/1b/2c/30f43be2627857ab80062bef1527c0128f7b4070b6b2d02139\n",
            "Successfully built pyspark\n",
            "Installing collected packages: py4j, pyspark\n",
            "Successfully installed py4j-0.10.9 pyspark-3.1.2\n"
          ],
          "name": "stdout"
        }
      ]
    },
    {
      "cell_type": "code",
      "metadata": {
        "id": "VXDaDta9CpbF"
      },
      "source": [
        "#import required packages\n",
        "import itertools\n",
        "import pyspark"
      ],
      "execution_count": null,
      "outputs": []
    },
    {
      "cell_type": "code",
      "metadata": {
        "id": "8fRGGmyIC_5c"
      },
      "source": [
        "#load spark content\n",
        "sc=pyspark.SparkContext(\"local\",\"Apriori\")"
      ],
      "execution_count": null,
      "outputs": []
    },
    {
      "cell_type": "code",
      "metadata": {
        "id": "bpgBVNmGC_8C"
      },
      "source": [
        "#load preprocessed data from text file\n",
        "text_input = sc.textFile('item.txt')"
      ],
      "execution_count": null,
      "outputs": []
    },
    {
      "cell_type": "code",
      "metadata": {
        "colab": {
          "base_uri": "https://localhost:8080/"
        },
        "id": "9gjfw6Y2C_-y",
        "outputId": "9d850f34-d56e-436e-81e9-0aef3bcb7f85"
      },
      "source": [
        "text_input"
      ],
      "execution_count": null,
      "outputs": [
        {
          "output_type": "execute_result",
          "data": {
            "text/plain": [
              "item.txt MapPartitionsRDD[18] at textFile at NativeMethodAccessorImpl.java:0"
            ]
          },
          "metadata": {
            "tags": []
          },
          "execution_count": 122
        }
      ]
    },
    {
      "cell_type": "code",
      "metadata": {
        "colab": {
          "base_uri": "https://localhost:8080/"
        },
        "id": "OBfue7GIDABq",
        "outputId": "f22e1667-4f49-4ff9-b4db-221aeffb9884"
      },
      "source": [
        "from operator import add\n",
        "no_of_baskets = text_input.map(lambda line: line.split()).count()\n",
        "no_of_baskets"
      ],
      "execution_count": null,
      "outputs": [
        {
          "output_type": "execute_result",
          "data": {
            "text/plain": [
              "298"
            ]
          },
          "metadata": {
            "tags": []
          },
          "execution_count": 123
        }
      ]
    },
    {
      "cell_type": "code",
      "metadata": {
        "id": "cLBhdlacDAFU"
      },
      "source": [
        "txt_RDD = text_input.map(lambda line:line.split())"
      ],
      "execution_count": null,
      "outputs": []
    },
    {
      "cell_type": "code",
      "metadata": {
        "id": "MbS5FJFxDAH6"
      },
      "source": [
        "#split data and create RDD with item and frequency\n",
        "individual_counts = text_input.flatMap(lambda line: line.split()).map(lambda x: (x,1)).reduceByKey(add)"
      ],
      "execution_count": null,
      "outputs": []
    },
    {
      "cell_type": "code",
      "metadata": {
        "colab": {
          "base_uri": "https://localhost:8080/"
        },
        "id": "Y57WzACYDlCP",
        "outputId": "07d911be-5dbb-4ca5-8907-4ea54317e98c"
      },
      "source": [
        "individual_counts.take(10)"
      ],
      "execution_count": null,
      "outputs": [
        {
          "output_type": "execute_result",
          "data": {
            "text/plain": [
              "[('ALARM_CLOCK_BAKELIKE_PINK', 28),\n",
              " ('ALARM_CLOCK_BAKELIKE_RED_', 25),\n",
              " ('ALARM_CLOCK_BAKELIKE_GREEN', 28),\n",
              " ('PANDA_AND_BUNNIES_STICKER_SHEET', 2),\n",
              " ('STARS_GIFT_TAPE_', 13),\n",
              " ('INFLATABLE_POLITICAL_GLOBE_', 8),\n",
              " ('VINTAGE_HEADS_AND_TAILS_CARD_GAME_', 7),\n",
              " ('SET/2_RED_RETROSPOT_TEA_TOWELS_', 8),\n",
              " ('ROUND_SNACK_BOXES_SET_OF4_WOODLAND_', 47),\n",
              " ('SPACEBOY_LUNCH_BOX_', 44)]"
            ]
          },
          "metadata": {
            "tags": []
          },
          "execution_count": 142
        }
      ]
    },
    {
      "cell_type": "code",
      "metadata": {
        "id": "eVsrEjVpDwHT"
      },
      "source": [
        "#make copy of individual_counts\n",
        "temp_ = individual_counts"
      ],
      "execution_count": 215,
      "outputs": []
    },
    {
      "cell_type": "code",
      "metadata": {
        "id": "Rjx99SoaCnjD"
      },
      "source": [
        "#Exclude items which fail min support of 0.08\n",
        "#Support of individual item is (freq of item) / total transactions(invoices)\n",
        "#Total transactions calculated above and stored in \"total_trans\"\n",
        "\n",
        "one_item_support = temp_.filter(lambda x: x[1]/total_trans>=0.08)"
      ],
      "execution_count": 246,
      "outputs": []
    },
    {
      "cell_type": "code",
      "metadata": {
        "colab": {
          "base_uri": "https://localhost:8080/",
          "height": 0
        },
        "id": "Kfj5gtrkEd7p",
        "outputId": "4a3c97eb-2c1a-4c19-bf27-0c2cac90dc65"
      },
      "source": [
        "one_item_support.take(10)"
      ],
      "execution_count": 244,
      "outputs": [
        {
          "output_type": "execute_result",
          "data": {
            "text/plain": [
              "[('ALARM_CLOCK_BAKELIKE_PINK', 28),\n",
              " ('ALARM_CLOCK_BAKELIKE_GREEN', 28),\n",
              " ('ROUND_SNACK_BOXES_SET_OF4_WOODLAND_', 47),\n",
              " ('SPACEBOY_LUNCH_BOX_', 44),\n",
              " ('RED_TOADSTOOL_LED_NIGHT_LIGHT', 52),\n",
              " ('MINI_PAINT_SET_VINTAGE_', 32),\n",
              " ('POSTAGE', 225),\n",
              " ('LUNCH_BOX_WITH_CUTLERY_RETROSPOT_', 49),\n",
              " ('TEA_PARTY_BIRTHDAY_CARD', 31),\n",
              " ('RED_RETROSPOT_MINI_CASES', 44)]"
            ]
          },
          "metadata": {
            "tags": []
          },
          "execution_count": 244
        }
      ]
    },
    {
      "cell_type": "code",
      "metadata": {
        "colab": {
          "base_uri": "https://localhost:8080/",
          "height": 0
        },
        "id": "oohxlnilMh7S",
        "outputId": "004413b4-82dd-44be-b47c-dd40f8c1f6be"
      },
      "source": [
        "#filtering to only include items that appear more than 2 times\n",
        "freq_items_counts = one_item_support.filter(lambda x: x[1]>=2).sortBy(lambda x: x[0])\n",
        "freq_items_counts.take(10)"
      ],
      "execution_count": 227,
      "outputs": [
        {
          "output_type": "execute_result",
          "data": {
            "text/plain": [
              "[('DOLLY_GIRL_LUNCH_BOX', 35),\n",
              " ('JUMBO_BAG_RED_RETROSPOT', 31),\n",
              " ('LUNCH_BAG_APPLE_DESIGN', 43),\n",
              " ('LUNCH_BAG_RED_RETROSPOT', 50),\n",
              " ('LUNCH_BAG_SPACEBOY_DESIGN_', 42),\n",
              " ('LUNCH_BAG_WOODLAND', 39),\n",
              " ('LUNCH_BOX_WITH_CUTLERY_RETROSPOT_', 49),\n",
              " ('MINI_PAINT_SET_VINTAGE_', 32),\n",
              " ('PACK_OF_72_RETROSPOT_CAKE_CASES', 31),\n",
              " ('PLASTERS_IN_TIN_CIRCUS_PARADE_', 52)]"
            ]
          },
          "metadata": {
            "tags": []
          },
          "execution_count": 227
        }
      ]
    },
    {
      "cell_type": "code",
      "metadata": {
        "id": "f5HBMhmPNWf3"
      },
      "source": [
        "#create list of freq_items_counts RDD\n",
        "freq_items_counts_list = one_item_support.filter(lambda x: x[1]>=2).sortBy(lambda x: x[0]).collect()"
      ],
      "execution_count": 228,
      "outputs": []
    },
    {
      "cell_type": "code",
      "metadata": {
        "colab": {
          "base_uri": "https://localhost:8080/",
          "height": 0
        },
        "id": "7Uvxv_LDNWsB",
        "outputId": "dae67dd2-0823-4c21-e275-44629e0b14f3"
      },
      "source": [
        "freq_items_counts_list[:10]"
      ],
      "execution_count": 229,
      "outputs": [
        {
          "output_type": "execute_result",
          "data": {
            "text/plain": [
              "[('DOLLY_GIRL_LUNCH_BOX', 35),\n",
              " ('JUMBO_BAG_RED_RETROSPOT', 31),\n",
              " ('LUNCH_BAG_APPLE_DESIGN', 43),\n",
              " ('LUNCH_BAG_RED_RETROSPOT', 50),\n",
              " ('LUNCH_BAG_SPACEBOY_DESIGN_', 42),\n",
              " ('LUNCH_BAG_WOODLAND', 39),\n",
              " ('LUNCH_BOX_WITH_CUTLERY_RETROSPOT_', 49),\n",
              " ('MINI_PAINT_SET_VINTAGE_', 32),\n",
              " ('PACK_OF_72_RETROSPOT_CAKE_CASES', 31),\n",
              " ('PLASTERS_IN_TIN_CIRCUS_PARADE_', 52)]"
            ]
          },
          "metadata": {
            "tags": []
          },
          "execution_count": 229
        }
      ]
    },
    {
      "cell_type": "code",
      "metadata": {
        "colab": {
          "base_uri": "https://localhost:8080/",
          "height": 0
        },
        "id": "TG1ijlflNWvd",
        "outputId": "a2d2da5d-2404-465b-a1f4-c8f6c787ecf7"
      },
      "source": [
        "#create RDD with items in freq_items_count\n",
        "freq_items = freq_items_counts.map(lambda x: x[0])\n",
        "freq_items.take(10)"
      ],
      "execution_count": 230,
      "outputs": [
        {
          "output_type": "execute_result",
          "data": {
            "text/plain": [
              "['DOLLY_GIRL_LUNCH_BOX',\n",
              " 'JUMBO_BAG_RED_RETROSPOT',\n",
              " 'LUNCH_BAG_APPLE_DESIGN',\n",
              " 'LUNCH_BAG_RED_RETROSPOT',\n",
              " 'LUNCH_BAG_SPACEBOY_DESIGN_',\n",
              " 'LUNCH_BAG_WOODLAND',\n",
              " 'LUNCH_BOX_WITH_CUTLERY_RETROSPOT_',\n",
              " 'MINI_PAINT_SET_VINTAGE_',\n",
              " 'PACK_OF_72_RETROSPOT_CAKE_CASES',\n",
              " 'PLASTERS_IN_TIN_CIRCUS_PARADE_']"
            ]
          },
          "metadata": {
            "tags": []
          },
          "execution_count": 230
        }
      ]
    },
    {
      "cell_type": "code",
      "metadata": {
        "colab": {
          "base_uri": "https://localhost:8080/",
          "height": 0
        },
        "id": "uM1NuH9vNWyS",
        "outputId": "25cac51f-2f09-40ba-ee31-29383d1ca4b1"
      },
      "source": [
        "freq_items_list = freq_items_counts.map(lambda x: x[0]).collect()\n",
        "freq_items_list[:10]"
      ],
      "execution_count": 231,
      "outputs": [
        {
          "output_type": "execute_result",
          "data": {
            "text/plain": [
              "['DOLLY_GIRL_LUNCH_BOX',\n",
              " 'JUMBO_BAG_RED_RETROSPOT',\n",
              " 'LUNCH_BAG_APPLE_DESIGN',\n",
              " 'LUNCH_BAG_RED_RETROSPOT',\n",
              " 'LUNCH_BAG_SPACEBOY_DESIGN_',\n",
              " 'LUNCH_BAG_WOODLAND',\n",
              " 'LUNCH_BOX_WITH_CUTLERY_RETROSPOT_',\n",
              " 'MINI_PAINT_SET_VINTAGE_',\n",
              " 'PACK_OF_72_RETROSPOT_CAKE_CASES',\n",
              " 'PLASTERS_IN_TIN_CIRCUS_PARADE_']"
            ]
          },
          "metadata": {
            "tags": []
          },
          "execution_count": 231
        }
      ]
    },
    {
      "cell_type": "code",
      "metadata": {
        "id": "-OAdVkktOUiO"
      },
      "source": [
        "#function for creating item pair and frequency\n",
        "def filter_and_pair(lst):\n",
        "    ret=[]\n",
        "    pairs=[]\n",
        "    for i in lst:\n",
        "        if i in freq_items_list:\n",
        "            ret.append(i)\n",
        "    ret.sort()\n",
        "    for pair in itertools.combinations(ret,2):\n",
        "        pairs.append((pair,1))\n",
        "    return(pairs)"
      ],
      "execution_count": 233,
      "outputs": []
    },
    {
      "cell_type": "code",
      "metadata": {
        "colab": {
          "base_uri": "https://localhost:8080/",
          "height": 0
        },
        "id": "ozm30m7tOcfe",
        "outputId": "d7d60693-846f-45f6-db03-185032311b5f"
      },
      "source": [
        "#create RDD for item pairs and their frequency\n",
        "pair_counts = txt_RDD.flatMap(lambda x: filter_and_pair(x)).reduceByKey(add).sortBy( lambda x: x[0])\n",
        "pair_counts.take(10)"
      ],
      "execution_count": 235,
      "outputs": [
        {
          "output_type": "execute_result",
          "data": {
            "text/plain": [
              "[(('DOLLY_GIRL_LUNCH_BOX', 'JUMBO_BAG_RED_RETROSPOT'), 4),\n",
              " (('DOLLY_GIRL_LUNCH_BOX', 'LUNCH_BAG_APPLE_DESIGN'), 7),\n",
              " (('DOLLY_GIRL_LUNCH_BOX', 'LUNCH_BAG_RED_RETROSPOT'), 14),\n",
              " (('DOLLY_GIRL_LUNCH_BOX', 'LUNCH_BAG_SPACEBOY_DESIGN_'), 14),\n",
              " (('DOLLY_GIRL_LUNCH_BOX', 'LUNCH_BAG_WOODLAND'), 11),\n",
              " (('DOLLY_GIRL_LUNCH_BOX', 'LUNCH_BOX_WITH_CUTLERY_RETROSPOT_'), 12),\n",
              " (('DOLLY_GIRL_LUNCH_BOX', 'MINI_PAINT_SET_VINTAGE_'), 4),\n",
              " (('DOLLY_GIRL_LUNCH_BOX', 'PACK_OF_72_RETROSPOT_CAKE_CASES'), 3),\n",
              " (('DOLLY_GIRL_LUNCH_BOX', 'PLASTERS_IN_TIN_CIRCUS_PARADE_'), 9),\n",
              " (('DOLLY_GIRL_LUNCH_BOX', 'PLASTERS_IN_TIN_SPACEBOY'), 12)]"
            ]
          },
          "metadata": {
            "tags": []
          },
          "execution_count": 235
        }
      ]
    },
    {
      "cell_type": "code",
      "metadata": {
        "colab": {
          "base_uri": "https://localhost:8080/",
          "height": 0
        },
        "id": "5uDe340WOh_f",
        "outputId": "08f6c981-db84-4731-fb39-117929333158"
      },
      "source": [
        "freq_pair_counts = pair_counts.filter(lambda x: x[1]>=2)\n",
        "freq_pair_counts.take(10)\n",
        "freq_pair_counts_list = freq_pair_counts.collect()\n",
        "freq_pair_counts_list[:10]"
      ],
      "execution_count": 236,
      "outputs": [
        {
          "output_type": "execute_result",
          "data": {
            "text/plain": [
              "[(('DOLLY_GIRL_LUNCH_BOX', 'JUMBO_BAG_RED_RETROSPOT'), 4),\n",
              " (('DOLLY_GIRL_LUNCH_BOX', 'LUNCH_BAG_APPLE_DESIGN'), 7),\n",
              " (('DOLLY_GIRL_LUNCH_BOX', 'LUNCH_BAG_RED_RETROSPOT'), 14),\n",
              " (('DOLLY_GIRL_LUNCH_BOX', 'LUNCH_BAG_SPACEBOY_DESIGN_'), 14),\n",
              " (('DOLLY_GIRL_LUNCH_BOX', 'LUNCH_BAG_WOODLAND'), 11),\n",
              " (('DOLLY_GIRL_LUNCH_BOX', 'LUNCH_BOX_WITH_CUTLERY_RETROSPOT_'), 12),\n",
              " (('DOLLY_GIRL_LUNCH_BOX', 'MINI_PAINT_SET_VINTAGE_'), 4),\n",
              " (('DOLLY_GIRL_LUNCH_BOX', 'PACK_OF_72_RETROSPOT_CAKE_CASES'), 3),\n",
              " (('DOLLY_GIRL_LUNCH_BOX', 'PLASTERS_IN_TIN_CIRCUS_PARADE_'), 9),\n",
              " (('DOLLY_GIRL_LUNCH_BOX', 'PLASTERS_IN_TIN_SPACEBOY'), 12)]"
            ]
          },
          "metadata": {
            "tags": []
          },
          "execution_count": 236
        }
      ]
    },
    {
      "cell_type": "code",
      "metadata": {
        "colab": {
          "base_uri": "https://localhost:8080/",
          "height": 0
        },
        "id": "ucDQTEttOnnm",
        "outputId": "dbb36e4a-a6cf-47f4-cc5d-f372a420a42d"
      },
      "source": [
        "#create RDD for only item pairs\n",
        "freq_pairs = freq_pair_counts.map(lambda x: x[0])\n",
        "freq_pairs.take(10)"
      ],
      "execution_count": 238,
      "outputs": [
        {
          "output_type": "execute_result",
          "data": {
            "text/plain": [
              "[('DOLLY_GIRL_LUNCH_BOX', 'JUMBO_BAG_RED_RETROSPOT'),\n",
              " ('DOLLY_GIRL_LUNCH_BOX', 'LUNCH_BAG_APPLE_DESIGN'),\n",
              " ('DOLLY_GIRL_LUNCH_BOX', 'LUNCH_BAG_RED_RETROSPOT'),\n",
              " ('DOLLY_GIRL_LUNCH_BOX', 'LUNCH_BAG_SPACEBOY_DESIGN_'),\n",
              " ('DOLLY_GIRL_LUNCH_BOX', 'LUNCH_BAG_WOODLAND'),\n",
              " ('DOLLY_GIRL_LUNCH_BOX', 'LUNCH_BOX_WITH_CUTLERY_RETROSPOT_'),\n",
              " ('DOLLY_GIRL_LUNCH_BOX', 'MINI_PAINT_SET_VINTAGE_'),\n",
              " ('DOLLY_GIRL_LUNCH_BOX', 'PACK_OF_72_RETROSPOT_CAKE_CASES'),\n",
              " ('DOLLY_GIRL_LUNCH_BOX', 'PLASTERS_IN_TIN_CIRCUS_PARADE_'),\n",
              " ('DOLLY_GIRL_LUNCH_BOX', 'PLASTERS_IN_TIN_SPACEBOY')]"
            ]
          },
          "metadata": {
            "tags": []
          },
          "execution_count": 238
        }
      ]
    },
    {
      "cell_type": "code",
      "metadata": {
        "id": "nQ6pyXno9r1W"
      },
      "source": [
        "#generate confidence for the item pair\n",
        "conf_lst1=[]\n",
        "for i in freq_pair_counts_list:\n",
        "    conf1 = i[1]/(freq_items_counts.filter(lambda x: x[0]==i[0][0]).collect())[0][1]\n",
        "    conf2 = i[1]/(freq_items_counts.filter(lambda x: x[0]==i[0][1]).collect())[0][1]\n",
        "    conf_lst1.append(((i[0][0],i[0][1]),conf1))\n",
        "    conf_lst1.append(((i[0][1],i[0][0]),conf2))"
      ],
      "execution_count": 239,
      "outputs": []
    },
    {
      "cell_type": "code",
      "metadata": {
        "colab": {
          "base_uri": "https://localhost:8080/",
          "height": 0
        },
        "id": "L61DAKi6FV1G",
        "outputId": "755d593f-ec55-4aef-bb03-f60c6dd1a94d"
      },
      "source": [
        "#sort items based on confidence value\n",
        "conf_lst1.sort(key=lambda x: -x[1])\n",
        "conf_lst1[:5]"
      ],
      "execution_count": 240,
      "outputs": [
        {
          "output_type": "execute_result",
          "data": {
            "text/plain": [
              "[(('SET/6_RED_SPOTTY_PAPER_PLATES', 'SET/6_RED_SPOTTY_PAPER_CUPS'),\n",
              "  0.9555555555555556),\n",
              " (('SET/6_RED_SPOTTY_PAPER_CUPS', 'SET/6_RED_SPOTTY_PAPER_PLATES'),\n",
              "  0.9148936170212766),\n",
              " (('ROUND_SNACK_BOXES_SET_OF4_WOODLAND_', 'POSTAGE'), 0.8936170212765957),\n",
              " (('STRAWBERRY_LUNCH_BOX_WITH_CUTLERY', 'POSTAGE'), 0.8837209302325582),\n",
              " (('TEA_PARTY_BIRTHDAY_CARD', 'POSTAGE'), 0.8709677419354839)]"
            ]
          },
          "metadata": {
            "tags": []
          },
          "execution_count": 240
        }
      ]
    }
  ]
}